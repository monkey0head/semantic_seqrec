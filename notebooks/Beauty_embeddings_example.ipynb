{
 "cells": [
  {
   "cell_type": "code",
   "execution_count": null,
   "id": "5a31c8a8",
   "metadata": {},
   "outputs": [],
   "source": [
    "import pandas as pd\n",
    "import numpy as np\n",
    "\n",
    "# from sentence_transformers import SentenceTransformer"
   ]
  },
  {
   "cell_type": "code",
   "execution_count": null,
   "id": "f8d7a992",
   "metadata": {},
   "outputs": [],
   "source": [
    "meta = pd.read_json('../data/raw/meta_Beauty.json.gz')"
   ]
  },
  {
   "cell_type": "code",
   "execution_count": 6,
   "id": "7dd94cd7",
   "metadata": {},
   "outputs": [],
   "source": [
    "data = pd.read_csv('../data/preprocessed/Beauty.csv')\n",
    "raw_data = pd.read_csv('../data/raw/Beauty.csv')\n",
    "meta = pd.read_parquet('../meta_Beauty.parquet')"
   ]
  },
  {
   "cell_type": "code",
   "execution_count": null,
   "id": "3e1a05b1",
   "metadata": {},
   "outputs": [],
   "source": [
    "sorted_ids = data.drop_duplicates('item_id').sort_values('item_id')\n",
    "\n",
    "index2asin = {item_id:item_id_old for item_id, item_id_old in zip(sorted_ids['item_id'], sorted_ids['item_id_old'])}\n",
    "asin2index = {item_id_old:item_id for item_id, item_id_old in zip(sorted_ids['item_id'], sorted_ids['item_id_old'])}\n",
    "\n",
    "meta['description'] = meta['description'].fillna(' ') # some items may have no description \n",
    "\n",
    "meta['full_description'] = 'Title: ' + meta['title'] + '\\n' + 'Description: ' + meta['description']"
   ]
  },
  {
   "cell_type": "code",
   "execution_count": 66,
   "id": "54108d0f",
   "metadata": {},
   "outputs": [],
   "source": [
    "meta['new_id'] = meta['asin'].map(asin2index)"
   ]
  },
  {
   "cell_type": "code",
   "execution_count": 67,
   "id": "44e214eb",
   "metadata": {},
   "outputs": [],
   "source": [
    "asin_unique = data['item_id_old'].unique()\n",
    "meta_unique = meta[meta.asin.isin(asin_unique)].sort_values('new_id')"
   ]
  },
  {
   "cell_type": "code",
   "execution_count": 72,
   "id": "c5e11fa1",
   "metadata": {},
   "outputs": [
    {
     "data": {
      "text/html": [
       "<div>\n",
       "<style scoped>\n",
       "    .dataframe tbody tr th:only-of-type {\n",
       "        vertical-align: middle;\n",
       "    }\n",
       "\n",
       "    .dataframe tbody tr th {\n",
       "        vertical-align: top;\n",
       "    }\n",
       "\n",
       "    .dataframe thead th {\n",
       "        text-align: right;\n",
       "    }\n",
       "</style>\n",
       "<table border=\"1\" class=\"dataframe\">\n",
       "  <thead>\n",
       "    <tr style=\"text-align: right;\">\n",
       "      <th></th>\n",
       "      <th>asin</th>\n",
       "      <th>description</th>\n",
       "      <th>title</th>\n",
       "      <th>imUrl</th>\n",
       "      <th>salesRank</th>\n",
       "      <th>categories</th>\n",
       "      <th>price</th>\n",
       "      <th>related</th>\n",
       "      <th>brand</th>\n",
       "      <th>full_description</th>\n",
       "      <th>new_id</th>\n",
       "    </tr>\n",
       "  </thead>\n",
       "  <tbody>\n",
       "    <tr>\n",
       "      <th>705</th>\n",
       "      <td>B00004TMFE</td>\n",
       "      <td>It's in our name: Avalon Organics. Our commitm...</td>\n",
       "      <td>Avalon Biotin B-Complex Thickening Conditioner...</td>\n",
       "      <td>http://ecx.images-amazon.com/images/I/41oDCiQA...</td>\n",
       "      <td>{'Arts, Crafts &amp; Sewing': None, 'Automotive': ...</td>\n",
       "      <td>[[Beauty, Hair Care, Conditioners]]</td>\n",
       "      <td>9.49</td>\n",
       "      <td>{'also_bought': ['B00JMBDCQW', 'B006VUR7N6', '...</td>\n",
       "      <td>Avalon Organics</td>\n",
       "      <td>Title: Avalon Biotin B-Complex Thickening Cond...</td>\n",
       "      <td>1.0</td>\n",
       "    </tr>\n",
       "    <tr>\n",
       "      <th>706</th>\n",
       "      <td>B00004TUBL</td>\n",
       "      <td>Qality designed two chamber that utilizes a 'p...</td>\n",
       "      <td>Better Living Classic Two Chamber Dispenser, W...</td>\n",
       "      <td>http://ecx.images-amazon.com/images/I/31ERK36T...</td>\n",
       "      <td>{'Arts, Crafts &amp; Sewing': None, 'Automotive': ...</td>\n",
       "      <td>[[Beauty, Bath &amp; Body, Bathing Accessories, Ba...</td>\n",
       "      <td>25.99</td>\n",
       "      <td>{'also_bought': ['B00004TUBV', 'B000WSNM9Q', '...</td>\n",
       "      <td>Classic</td>\n",
       "      <td>Title: Better Living Classic Two Chamber Dispe...</td>\n",
       "      <td>2.0</td>\n",
       "    </tr>\n",
       "    <tr>\n",
       "      <th>707</th>\n",
       "      <td>B00004TUBV</td>\n",
       "      <td>The Ulti-Mate Dispenser III, provides a perfec...</td>\n",
       "      <td>Better Living The Ulti-Mate Dispenser</td>\n",
       "      <td>http://ecx.images-amazon.com/images/I/41J763J3...</td>\n",
       "      <td>{'Arts, Crafts &amp; Sewing': None, 'Automotive': ...</td>\n",
       "      <td>[[Beauty, Bath &amp; Body, Bathing Accessories, Ba...</td>\n",
       "      <td>39.95</td>\n",
       "      <td>{'also_bought': ['B000WSNM9Q', 'B00004TUBL', '...</td>\n",
       "      <td>Better Living</td>\n",
       "      <td>Title: Better Living The Ulti-Mate Dispenser\\n...</td>\n",
       "      <td>3.0</td>\n",
       "    </tr>\n",
       "    <tr>\n",
       "      <th>713</th>\n",
       "      <td>B00004U9UY</td>\n",
       "      <td>You've watched your favorite gardeners spend h...</td>\n",
       "      <td>Crabtree &amp;amp; Evelyn 2792 Gardeners Hand Ther...</td>\n",
       "      <td>http://ecx.images-amazon.com/images/I/51n9hJbb...</td>\n",
       "      <td>{'Arts, Crafts &amp; Sewing': None, 'Automotive': ...</td>\n",
       "      <td>[[Beauty, Skin Care, Hands &amp; Nails, Hand Cream...</td>\n",
       "      <td>18.19</td>\n",
       "      <td>{'also_bought': ['B005E0AGX2', 'B000Z65AZE', '...</td>\n",
       "      <td>Crabtree &amp;amp; Evelyn</td>\n",
       "      <td>Title: Crabtree &amp;amp; Evelyn 2792 Gardeners Ha...</td>\n",
       "      <td>4.0</td>\n",
       "    </tr>\n",
       "    <tr>\n",
       "      <th>721</th>\n",
       "      <td>B000050B6U</td>\n",
       "      <td>Welcome to the world of advanced styling, wher...</td>\n",
       "      <td>Instant Heat Curling Iron, 1-Inch</td>\n",
       "      <td>http://ecx.images-amazon.com/images/I/31V7XJ9X...</td>\n",
       "      <td>{'Arts, Crafts &amp; Sewing': None, 'Automotive': ...</td>\n",
       "      <td>[[Beauty, Hair Care, Styling Tools, Irons, Cur...</td>\n",
       "      <td>13.95</td>\n",
       "      <td>{'also_bought': ['B000NJE40K', 'B00005O0MZ', '...</td>\n",
       "      <td>Conair</td>\n",
       "      <td>Title: Instant Heat Curling Iron, 1-Inch\\nDesc...</td>\n",
       "      <td>5.0</td>\n",
       "    </tr>\n",
       "  </tbody>\n",
       "</table>\n",
       "</div>"
      ],
      "text/plain": [
       "           asin                                        description  \\\n",
       "705  B00004TMFE  It's in our name: Avalon Organics. Our commitm...   \n",
       "706  B00004TUBL  Qality designed two chamber that utilizes a 'p...   \n",
       "707  B00004TUBV  The Ulti-Mate Dispenser III, provides a perfec...   \n",
       "713  B00004U9UY  You've watched your favorite gardeners spend h...   \n",
       "721  B000050B6U  Welcome to the world of advanced styling, wher...   \n",
       "\n",
       "                                                 title  \\\n",
       "705  Avalon Biotin B-Complex Thickening Conditioner...   \n",
       "706  Better Living Classic Two Chamber Dispenser, W...   \n",
       "707              Better Living The Ulti-Mate Dispenser   \n",
       "713  Crabtree &amp; Evelyn 2792 Gardeners Hand Ther...   \n",
       "721                  Instant Heat Curling Iron, 1-Inch   \n",
       "\n",
       "                                                 imUrl  \\\n",
       "705  http://ecx.images-amazon.com/images/I/41oDCiQA...   \n",
       "706  http://ecx.images-amazon.com/images/I/31ERK36T...   \n",
       "707  http://ecx.images-amazon.com/images/I/41J763J3...   \n",
       "713  http://ecx.images-amazon.com/images/I/51n9hJbb...   \n",
       "721  http://ecx.images-amazon.com/images/I/31V7XJ9X...   \n",
       "\n",
       "                                             salesRank  \\\n",
       "705  {'Arts, Crafts & Sewing': None, 'Automotive': ...   \n",
       "706  {'Arts, Crafts & Sewing': None, 'Automotive': ...   \n",
       "707  {'Arts, Crafts & Sewing': None, 'Automotive': ...   \n",
       "713  {'Arts, Crafts & Sewing': None, 'Automotive': ...   \n",
       "721  {'Arts, Crafts & Sewing': None, 'Automotive': ...   \n",
       "\n",
       "                                            categories  price  \\\n",
       "705                [[Beauty, Hair Care, Conditioners]]   9.49   \n",
       "706  [[Beauty, Bath & Body, Bathing Accessories, Ba...  25.99   \n",
       "707  [[Beauty, Bath & Body, Bathing Accessories, Ba...  39.95   \n",
       "713  [[Beauty, Skin Care, Hands & Nails, Hand Cream...  18.19   \n",
       "721  [[Beauty, Hair Care, Styling Tools, Irons, Cur...  13.95   \n",
       "\n",
       "                                               related                  brand  \\\n",
       "705  {'also_bought': ['B00JMBDCQW', 'B006VUR7N6', '...        Avalon Organics   \n",
       "706  {'also_bought': ['B00004TUBV', 'B000WSNM9Q', '...                Classic   \n",
       "707  {'also_bought': ['B000WSNM9Q', 'B00004TUBL', '...          Better Living   \n",
       "713  {'also_bought': ['B005E0AGX2', 'B000Z65AZE', '...  Crabtree &amp; Evelyn   \n",
       "721  {'also_bought': ['B000NJE40K', 'B00005O0MZ', '...                 Conair   \n",
       "\n",
       "                                      full_description  new_id  \n",
       "705  Title: Avalon Biotin B-Complex Thickening Cond...     1.0  \n",
       "706  Title: Better Living Classic Two Chamber Dispe...     2.0  \n",
       "707  Title: Better Living The Ulti-Mate Dispenser\\n...     3.0  \n",
       "713  Title: Crabtree &amp; Evelyn 2792 Gardeners Ha...     4.0  \n",
       "721  Title: Instant Heat Curling Iron, 1-Inch\\nDesc...     5.0  "
      ]
     },
     "execution_count": 72,
     "metadata": {},
     "output_type": "execute_result"
    }
   ],
   "source": [
    "meta_unique.head(5)"
   ]
  },
  {
   "cell_type": "markdown",
   "id": "2d238388",
   "metadata": {},
   "source": [
    "## Create embeddings"
   ]
  },
  {
   "cell_type": "code",
   "execution_count": 73,
   "id": "39f24928",
   "metadata": {},
   "outputs": [
    {
     "name": "stderr",
     "output_type": "stream",
     "text": [
      "Batches: 100%|██████████| 96/96 [00:17<00:00,  5.41it/s]\n"
     ]
    },
    {
     "data": {
      "text/plain": [
       "(6086, 768)"
      ]
     },
     "execution_count": 73,
     "metadata": {},
     "output_type": "execute_result"
    }
   ],
   "source": [
    "model_ckpt = 'intfloat/e5-base-v2'\n",
    "\n",
    "model = SentenceTransformer(model_ckpt)\n",
    "\n",
    "item_embeddings = model.encode(\n",
    "    meta_unique['full_description'].to_list(),\n",
    "    batch_size=64,\n",
    "    show_progress_bar=True,\n",
    "    normalize_embeddings=False,\n",
    ")\n",
    "item_embeddings.shape"
   ]
  },
  {
   "cell_type": "code",
   "execution_count": 76,
   "id": "0285b7e8",
   "metadata": {},
   "outputs": [],
   "source": [
    "np.save('../data/embeddings/my_beauty_embs.npy', item_embeddings)"
   ]
  }
 ],
 "metadata": {
  "kernelspec": {
   "display_name": "Python 3",
   "language": "python",
   "name": "python3"
  },
  "language_info": {
   "codemirror_mode": {
    "name": "ipython",
    "version": 3
   },
   "file_extension": ".py",
   "mimetype": "text/x-python",
   "name": "python",
   "nbconvert_exporter": "python",
   "pygments_lexer": "ipython3",
   "version": "3.10.16"
  }
 },
 "nbformat": 4,
 "nbformat_minor": 5
}
